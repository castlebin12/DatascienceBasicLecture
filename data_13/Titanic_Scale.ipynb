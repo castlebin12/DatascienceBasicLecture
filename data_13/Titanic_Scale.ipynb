{
 "cells": [
  {
   "cell_type": "code",
   "execution_count": 102,
   "metadata": {},
   "outputs": [],
   "source": [
    "import pandas as pd \n",
    "import numpy as np\n",
    "\n",
    "train_data = pd.read_csv('titanic_train.csv')\n",
    "test_data = pd.read_csv('titanic_test.csv')"
   ]
  },
  {
   "cell_type": "code",
   "execution_count": 103,
   "metadata": {},
   "outputs": [],
   "source": [
    "#전처리 (성별, Embarked)\n",
    "\n",
    "train_data.loc[train_data['Sex'] == 'male' , 'Sex'] =0\n",
    "train_data.loc[train_data['Sex'] == 'female' , 'Sex'] =1\n",
    "temp_train = pd.get_dummies(train_data['Embarked'], prefix='Embarked')  \n",
    "train_data = pd.concat([train_data, temp_train] ,axis=1)\n",
    "train_data = train_data.drop(['Embarked'], axis= 1)\n",
    "\n",
    "\n",
    "test_data.loc[test_data['Sex'] == 'male' , 'Sex'] =0\n",
    "test_data.loc[test_data['Sex'] == 'female' , 'Sex'] =1\n",
    "temp_test = pd.get_dummies(test_data['Embarked'], prefix='Embarked')  \n",
    "test_data = pd.concat([test_data, temp_test] ,axis=1)\n",
    "test_data = test_data.drop(['Embarked'], axis= 1)"
   ]
  },
  {
   "cell_type": "code",
   "execution_count": 104,
   "metadata": {},
   "outputs": [],
   "source": [
    "#전처리 (나이)\n",
    "train_data.loc[(train_data['Sex']==0) & (train_data['Age'].isna()),'Age'] = train_data.loc[train_data['Sex']==0,'Age'].median()\n",
    "train_data.loc[(train_data['Sex']==1) & (train_data['Age'].isna()),'Age'] = train_data.loc[train_data['Sex']==1,'Age'].median()\n",
    "\n",
    "# 나이,Fare 중간값\n",
    "test_data.loc[(test_data['Sex']==0) & (test_data['Age'].isna()),'Age'] = test_data.loc[test_data['Sex']==0,'Age'].median()\n",
    "test_data.loc[(test_data['Sex']==1) & (test_data['Age'].isna()),'Age'] = test_data.loc[test_data['Sex']==1,'Age'].median()\n",
    "\n",
    "test_data.loc[test_data['Fare'].isna(),'Fare'] = test_data['Fare'].median()\n"
   ]
  },
  {
   "cell_type": "code",
   "execution_count": 105,
   "metadata": {},
   "outputs": [],
   "source": [
    "from sklearn.model_selection import train_test_split\n",
    "\n",
    "x_fatures = ['Pclass','Age', 'Sex', 'SibSp', 'Parch', 'Fare','Embarked_C', 'Embarked_Q', 'Embarked_S']\n",
    "\n",
    "x_train, x_test, y_train, y_test = train_test_split(train_data[x_fatures], train_data['Survived'], stratify = train_data['Survived'], random_state=42)\n"
   ]
  },
  {
   "cell_type": "code",
   "execution_count": 106,
   "metadata": {},
   "outputs": [],
   "source": [
    "from sklearn.decomposition import PCA\n",
    "pca = PCA(n_components=9,whiten= False, random_state=0).fit(x_train)\n",
    "x_train_pca = pca.transform(x_train)\n",
    "x_test_pca = pca.transform(x_test)\n",
    "\n",
    "test = test_data[['Pclass','Age', 'Sex', 'SibSp', 'Parch', 'Fare','Embarked_C', 'Embarked_Q', 'Embarked_S']]\n",
    "test_pca = pca.transform(test)\n",
    "# print(x_train_pca.shape)"
   ]
  },
  {
   "cell_type": "code",
   "execution_count": 100,
   "metadata": {},
   "outputs": [
    {
     "name": "stdout",
     "output_type": "stream",
     "text": [
      "scale전 :  0.8667664670658682\n",
      "scale전_TEST :  0.8026905829596412\n",
      "scale후 :  0.8862275449101796\n",
      "scale후_TEST :  0.8026905829596412\n",
      "1.0\n"
     ]
    }
   ],
   "source": [
    "## 수행\n",
    "from sklearn.ensemble import RandomForestClassifier\n",
    "clf = RandomForestClassifier(n_estimators=500, max_depth=5,\n",
    "                              random_state=0, n_jobs=4)\n",
    "# clf2 = RandomForestClassifier(n_estimators=500, max_depth=5,\n",
    "#     random_state=0, n_jobs=4)\n",
    "clf.fit(x_train, y_train)\n",
    "print('scale전 : ',clf.score(x_train,y_train))\n",
    "print('scale전_TEST : ',clf.score(x_test,y_test))\n",
    "clf.fit(x_train_pca,y_train)\n",
    "# clf2.fit(x_train,y_train)\n",
    "print('scale후 : ', clf.score(x_train_pca,y_train))\n",
    "print('scale후_TEST : ',clf.score(x_test_pca,y_test))\n",
    "\n",
    "\n",
    "# grid_search = GridSearchCV(RandomForestClassifier(), param_grid, cv=5,return_train_score =True )\n",
    "# grid_search.fit(x_train,y_train)\n",
    "# # print(\"테스트 세트 점수: {:.2f}\".format(grid_search.score(x_test, y_test)))\n",
    "# print(\"최적 매개변수:\", grid_search.best_params_)\n",
    "# print(\"최고 교차 검증 점수: {:.2f}\".format(grid_search.best_score_))\n",
    "# print(\"최고 성능 모델:\\n\", grid_search.best_estimator_)\n",
    "\n",
    "\n",
    "# pred = grid_search.predict(x_test)\n",
    "pred = clf.predict(test_pca)\n",
    "print(clf.score(test_pca,pred))\n",
    "\n",
    "# sub = pd.DataFrame(columns=[test_data['PassengerId'],pred])\n",
    "\n",
    "# sub.to_csv('Submit_titanic.csv', sep=',', encoding ='utf-8')\n",
    "\n",
    "sub = pd.DataFrame()\n",
    "sub['PassengerId']=test_data['PassengerId']\n",
    "sub['Survived'] = pred\n",
    "\n",
    "sub.index = sub['PassengerId']\n",
    "sub.drop(columns='PassengerId', inplace=True)\n",
    "sub.to_csv('Submit_titanic.csv', sep=',', encoding ='utf-8')"
   ]
  },
  {
   "cell_type": "code",
   "execution_count": 111,
   "metadata": {},
   "outputs": [
    {
     "ename": "ValueError",
     "evalue": "feature_names mismatch: ['f0', 'f1', 'f2', 'f3', 'f4', 'f5', 'f6', 'f7', 'f8'] ['Pclass', 'Age', 'Sex', 'SibSp', 'Parch', 'Fare', 'Embarked_C', 'Embarked_Q', 'Embarked_S']\nexpected f0, f2, f7, f5, f8, f4, f3, f1, f6 in input data\ntraining data did not have the following fields: Embarked_S, SibSp, Fare, Parch, Embarked_C, Embarked_Q, Pclass, Sex, Age",
     "output_type": "error",
     "traceback": [
      "\u001b[1;31m---------------------------------------------------------------------------\u001b[0m",
      "\u001b[1;31mValueError\u001b[0m                                Traceback (most recent call last)",
      "\u001b[1;32m<ipython-input-111-fce73b68c216>\u001b[0m in \u001b[0;36m<module>\u001b[1;34m\u001b[0m\n\u001b[0;32m      6\u001b[0m \u001b[1;33m\u001b[0m\u001b[0m\n\u001b[0;32m      7\u001b[0m \u001b[0mxgbClf\u001b[0m\u001b[1;33m.\u001b[0m\u001b[0mfit\u001b[0m\u001b[1;33m(\u001b[0m\u001b[0mx_train_pca\u001b[0m\u001b[1;33m,\u001b[0m \u001b[0my_train\u001b[0m\u001b[1;33m)\u001b[0m\u001b[1;33m\u001b[0m\u001b[1;33m\u001b[0m\u001b[0m\n\u001b[1;32m----> 8\u001b[1;33m \u001b[0mprint\u001b[0m\u001b[1;33m(\u001b[0m\u001b[1;34m'scale전 : '\u001b[0m\u001b[1;33m,\u001b[0m\u001b[0mxgbClf\u001b[0m\u001b[1;33m.\u001b[0m\u001b[0mscore\u001b[0m\u001b[1;33m(\u001b[0m\u001b[0mx_train\u001b[0m\u001b[1;33m,\u001b[0m\u001b[0my_train\u001b[0m\u001b[1;33m)\u001b[0m\u001b[1;33m)\u001b[0m\u001b[1;33m\u001b[0m\u001b[1;33m\u001b[0m\u001b[0m\n\u001b[0m\u001b[0;32m      9\u001b[0m \u001b[0mprint\u001b[0m\u001b[1;33m(\u001b[0m\u001b[1;34m'scale전_TEST : '\u001b[0m\u001b[1;33m,\u001b[0m\u001b[0mxgbClf\u001b[0m\u001b[1;33m.\u001b[0m\u001b[0mscore\u001b[0m\u001b[1;33m(\u001b[0m\u001b[0mx_test\u001b[0m\u001b[1;33m,\u001b[0m\u001b[0my_test\u001b[0m\u001b[1;33m)\u001b[0m\u001b[1;33m)\u001b[0m\u001b[1;33m\u001b[0m\u001b[1;33m\u001b[0m\u001b[0m\n\u001b[0;32m     10\u001b[0m \u001b[1;33m\u001b[0m\u001b[0m\n",
      "\u001b[1;32mC:\\ProgramData\\Anaconda3\\lib\\site-packages\\sklearn\\base.py\u001b[0m in \u001b[0;36mscore\u001b[1;34m(self, X, y, sample_weight)\u001b[0m\n\u001b[0;32m    286\u001b[0m         \"\"\"\n\u001b[0;32m    287\u001b[0m         \u001b[1;32mfrom\u001b[0m \u001b[1;33m.\u001b[0m\u001b[0mmetrics\u001b[0m \u001b[1;32mimport\u001b[0m \u001b[0maccuracy_score\u001b[0m\u001b[1;33m\u001b[0m\u001b[1;33m\u001b[0m\u001b[0m\n\u001b[1;32m--> 288\u001b[1;33m         \u001b[1;32mreturn\u001b[0m \u001b[0maccuracy_score\u001b[0m\u001b[1;33m(\u001b[0m\u001b[0my\u001b[0m\u001b[1;33m,\u001b[0m \u001b[0mself\u001b[0m\u001b[1;33m.\u001b[0m\u001b[0mpredict\u001b[0m\u001b[1;33m(\u001b[0m\u001b[0mX\u001b[0m\u001b[1;33m)\u001b[0m\u001b[1;33m,\u001b[0m \u001b[0msample_weight\u001b[0m\u001b[1;33m=\u001b[0m\u001b[0msample_weight\u001b[0m\u001b[1;33m)\u001b[0m\u001b[1;33m\u001b[0m\u001b[1;33m\u001b[0m\u001b[0m\n\u001b[0m\u001b[0;32m    289\u001b[0m \u001b[1;33m\u001b[0m\u001b[0m\n\u001b[0;32m    290\u001b[0m \u001b[1;33m\u001b[0m\u001b[0m\n",
      "\u001b[1;32mC:\\ProgramData\\Anaconda3\\lib\\site-packages\\xgboost\\sklearn.py\u001b[0m in \u001b[0;36mpredict\u001b[1;34m(self, data, output_margin, ntree_limit, validate_features)\u001b[0m\n\u001b[0;32m    770\u001b[0m                                                  \u001b[0moutput_margin\u001b[0m\u001b[1;33m=\u001b[0m\u001b[0moutput_margin\u001b[0m\u001b[1;33m,\u001b[0m\u001b[1;33m\u001b[0m\u001b[1;33m\u001b[0m\u001b[0m\n\u001b[0;32m    771\u001b[0m                                                  \u001b[0mntree_limit\u001b[0m\u001b[1;33m=\u001b[0m\u001b[0mntree_limit\u001b[0m\u001b[1;33m,\u001b[0m\u001b[1;33m\u001b[0m\u001b[1;33m\u001b[0m\u001b[0m\n\u001b[1;32m--> 772\u001b[1;33m                                                  validate_features=validate_features)\n\u001b[0m\u001b[0;32m    773\u001b[0m         \u001b[1;32mif\u001b[0m \u001b[0moutput_margin\u001b[0m\u001b[1;33m:\u001b[0m\u001b[1;33m\u001b[0m\u001b[1;33m\u001b[0m\u001b[0m\n\u001b[0;32m    774\u001b[0m             \u001b[1;31m# If output_margin is active, simply return the scores\u001b[0m\u001b[1;33m\u001b[0m\u001b[1;33m\u001b[0m\u001b[1;33m\u001b[0m\u001b[0m\n",
      "\u001b[1;32mC:\\ProgramData\\Anaconda3\\lib\\site-packages\\xgboost\\core.py\u001b[0m in \u001b[0;36mpredict\u001b[1;34m(self, data, output_margin, ntree_limit, pred_leaf, pred_contribs, approx_contribs, pred_interactions, validate_features)\u001b[0m\n\u001b[0;32m   1283\u001b[0m \u001b[1;33m\u001b[0m\u001b[0m\n\u001b[0;32m   1284\u001b[0m         \u001b[1;32mif\u001b[0m \u001b[0mvalidate_features\u001b[0m\u001b[1;33m:\u001b[0m\u001b[1;33m\u001b[0m\u001b[1;33m\u001b[0m\u001b[0m\n\u001b[1;32m-> 1285\u001b[1;33m             \u001b[0mself\u001b[0m\u001b[1;33m.\u001b[0m\u001b[0m_validate_features\u001b[0m\u001b[1;33m(\u001b[0m\u001b[0mdata\u001b[0m\u001b[1;33m)\u001b[0m\u001b[1;33m\u001b[0m\u001b[1;33m\u001b[0m\u001b[0m\n\u001b[0m\u001b[0;32m   1286\u001b[0m \u001b[1;33m\u001b[0m\u001b[0m\n\u001b[0;32m   1287\u001b[0m         \u001b[0mlength\u001b[0m \u001b[1;33m=\u001b[0m \u001b[0mc_bst_ulong\u001b[0m\u001b[1;33m(\u001b[0m\u001b[1;33m)\u001b[0m\u001b[1;33m\u001b[0m\u001b[1;33m\u001b[0m\u001b[0m\n",
      "\u001b[1;32mC:\\ProgramData\\Anaconda3\\lib\\site-packages\\xgboost\\core.py\u001b[0m in \u001b[0;36m_validate_features\u001b[1;34m(self, data)\u001b[0m\n\u001b[0;32m   1690\u001b[0m \u001b[1;33m\u001b[0m\u001b[0m\n\u001b[0;32m   1691\u001b[0m                 raise ValueError(msg.format(self.feature_names,\n\u001b[1;32m-> 1692\u001b[1;33m                                             data.feature_names))\n\u001b[0m\u001b[0;32m   1693\u001b[0m \u001b[1;33m\u001b[0m\u001b[0m\n\u001b[0;32m   1694\u001b[0m     \u001b[1;32mdef\u001b[0m \u001b[0mget_split_value_histogram\u001b[0m\u001b[1;33m(\u001b[0m\u001b[0mself\u001b[0m\u001b[1;33m,\u001b[0m \u001b[0mfeature\u001b[0m\u001b[1;33m,\u001b[0m \u001b[0mfmap\u001b[0m\u001b[1;33m=\u001b[0m\u001b[1;34m''\u001b[0m\u001b[1;33m,\u001b[0m \u001b[0mbins\u001b[0m\u001b[1;33m=\u001b[0m\u001b[1;32mNone\u001b[0m\u001b[1;33m,\u001b[0m \u001b[0mas_pandas\u001b[0m\u001b[1;33m=\u001b[0m\u001b[1;32mTrue\u001b[0m\u001b[1;33m)\u001b[0m\u001b[1;33m:\u001b[0m\u001b[1;33m\u001b[0m\u001b[1;33m\u001b[0m\u001b[0m\n",
      "\u001b[1;31mValueError\u001b[0m: feature_names mismatch: ['f0', 'f1', 'f2', 'f3', 'f4', 'f5', 'f6', 'f7', 'f8'] ['Pclass', 'Age', 'Sex', 'SibSp', 'Parch', 'Fare', 'Embarked_C', 'Embarked_Q', 'Embarked_S']\nexpected f0, f2, f7, f5, f8, f4, f3, f1, f6 in input data\ntraining data did not have the following fields: Embarked_S, SibSp, Fare, Parch, Embarked_C, Embarked_Q, Pclass, Sex, Age"
     ]
    }
   ],
   "source": [
    "## m수행\n",
    "import xgboost as xgb\n",
    "xgbClf = xgb.XGBClassifier(colsample_bytree = 0.3, learning_rate = 0.1,\n",
    "                max_depth = 5, alpha = 10, n_estimators = 10)\n",
    "\n",
    "\n",
    "xgbClf.fit(x_train_pca, y_train)\n",
    "print('scale전 : ',xgbClf.score(x_train,y_train))\n",
    "print('scale전_TEST : ',xgbClf.score(x_test,y_test))\n",
    "\n",
    "xgbClf.fit(x_train, y_train)\n",
    "print('scale후 : ', xgbClf.score(x_train_pca,y_train))\n",
    "print('scale후_TEST : ',xgbClf.score(x_test_pca,y_test))\n",
    "\n",
    "\n",
    "# grid_search = GridSearchCV(RandomForestClassifier(), param_grid, cv=5,return_train_score =True )\n",
    "# grid_search.fit(x_train,y_train)\n",
    "# # print(\"테스트 세트 점수: {:.2f}\".format(grid_search.score(x_test, y_test)))\n",
    "# print(\"최적 매개변수:\", grid_search.best_params_)\n",
    "# print(\"최고 교차 검증 점수: {:.2f}\".format(grid_search.best_score_))\n",
    "# print(\"최고 성능 모델:\\n\", grid_search.best_estimator_)\n",
    "\n",
    "\n",
    "# pred = grid_search.predict(x_test)\n",
    "pred = xgbClf.predict(test_pca)\n",
    "print(xgbClf.score(test_pca,pred))\n",
    "\n",
    "# sub = pd.DataFrame(columns=[test_data['PassengerId'],pred])\n",
    "\n",
    "# sub.to_csv('Submit_titanic.csv', sep=',', encoding ='utf-8')\n",
    "\n",
    "sub = pd.DataFrame()\n",
    "sub['PassengerId']=test_data['PassengerId']\n",
    "sub['Survived'] = pred\n",
    "\n",
    "sub.index = sub['PassengerId']\n",
    "sub.drop(columns='PassengerId', inplace=True)\n",
    "sub.to_csv('Submit_titanic.csv', sep=',', encoding ='utf-8')"
   ]
  },
  {
   "cell_type": "code",
   "execution_count": null,
   "metadata": {},
   "outputs": [],
   "source": []
  },
  {
   "cell_type": "code",
   "execution_count": null,
   "metadata": {},
   "outputs": [],
   "source": []
  }
 ],
 "metadata": {
  "kernelspec": {
   "display_name": "Python 3",
   "language": "python",
   "name": "python3"
  },
  "language_info": {
   "codemirror_mode": {
    "name": "ipython",
    "version": 3
   },
   "file_extension": ".py",
   "mimetype": "text/x-python",
   "name": "python",
   "nbconvert_exporter": "python",
   "pygments_lexer": "ipython3",
   "version": "3.7.1"
  }
 },
 "nbformat": 4,
 "nbformat_minor": 2
}
