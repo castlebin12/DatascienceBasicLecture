{
 "cells": [
  {
   "cell_type": "code",
   "execution_count": 5,
   "metadata": {},
   "outputs": [],
   "source": [
    "import numpy as np"
   ]
  },
  {
   "cell_type": "code",
   "execution_count": 6,
   "metadata": {},
   "outputs": [
    {
     "data": {
      "text/plain": [
       "numpy.float64"
      ]
     },
     "execution_count": 6,
     "metadata": {},
     "output_type": "execute_result"
    }
   ],
   "source": [
    "a = np.eye(2) # [[1., 0.],[0., 1.]]\n",
    "type(a[0,0])"
   ]
  },
  {
   "cell_type": "code",
   "execution_count": 7,
   "metadata": {},
   "outputs": [],
   "source": [
    "b = np.random.random((3,5,3))"
   ]
  },
  {
   "cell_type": "code",
   "execution_count": 8,
   "metadata": {},
   "outputs": [
    {
     "data": {
      "text/plain": [
       "array([[[0.81214   , 0.74255092, 0.45555196],\n",
       "        [0.07891035, 0.17320169, 0.41537644],\n",
       "        [0.17833275, 0.06456335, 0.5066794 ],\n",
       "        [0.27357037, 0.79159125, 0.73858332],\n",
       "        [0.90476602, 0.15620095, 0.75077278]],\n",
       "\n",
       "       [[0.20964765, 0.60782347, 0.31816587],\n",
       "        [0.56296251, 0.67662066, 0.6663994 ],\n",
       "        [0.4803136 , 0.35830996, 0.03823825],\n",
       "        [0.00347183, 0.64384327, 0.02414131],\n",
       "        [0.69804405, 0.7149595 , 0.0721153 ]],\n",
       "\n",
       "       [[0.2265288 , 0.80455381, 0.87215306],\n",
       "        [0.3417546 , 0.45769346, 0.88187806],\n",
       "        [0.97085829, 0.1639631 , 0.13794374],\n",
       "        [0.12691611, 0.32327508, 0.94078091],\n",
       "        [0.67808585, 0.54630687, 0.75915453]]])"
      ]
     },
     "execution_count": 8,
     "metadata": {},
     "output_type": "execute_result"
    }
   ],
   "source": [
    "b"
   ]
  },
  {
   "cell_type": "code",
   "execution_count": 9,
   "metadata": {},
   "outputs": [
    {
     "data": {
      "text/plain": [
       "0.024141308106395476"
      ]
     },
     "execution_count": 9,
     "metadata": {},
     "output_type": "execute_result"
    }
   ],
   "source": [
    "b[1, 3, 2]"
   ]
  },
  {
   "cell_type": "code",
   "execution_count": 10,
   "metadata": {},
   "outputs": [
    {
     "data": {
      "text/plain": [
       "array([[0.20964765, 0.60782347, 0.31816587],\n",
       "       [0.56296251, 0.67662066, 0.6663994 ],\n",
       "       [0.4803136 , 0.35830996, 0.03823825],\n",
       "       [0.00347183, 0.64384327, 0.02414131],\n",
       "       [0.69804405, 0.7149595 , 0.0721153 ]])"
      ]
     },
     "execution_count": 10,
     "metadata": {},
     "output_type": "execute_result"
    }
   ],
   "source": [
    "b[1]"
   ]
  },
  {
   "cell_type": "code",
   "execution_count": 11,
   "metadata": {},
   "outputs": [
    {
     "data": {
      "text/plain": [
       "(3,)"
      ]
     },
     "execution_count": 11,
     "metadata": {},
     "output_type": "execute_result"
    }
   ],
   "source": [
    "b[1, 3].shape"
   ]
  },
  {
   "cell_type": "code",
   "execution_count": 12,
   "metadata": {},
   "outputs": [],
   "source": [
    "a = np.random.random((3,4))"
   ]
  },
  {
   "cell_type": "code",
   "execution_count": 13,
   "metadata": {},
   "outputs": [
    {
     "data": {
      "text/plain": [
       "array([[0.44658507, 0.05122823, 0.55229485, 0.18993817],\n",
       "       [0.55395612, 0.57354935, 0.94414461, 0.23263646],\n",
       "       [0.47780126, 0.95407924, 0.62154097, 0.37282812]])"
      ]
     },
     "execution_count": 13,
     "metadata": {},
     "output_type": "execute_result"
    }
   ],
   "source": [
    "a"
   ]
  },
  {
   "cell_type": "code",
   "execution_count": 14,
   "metadata": {},
   "outputs": [
    {
     "data": {
      "text/plain": [
       "array([0.94414461, 0.62154097])"
      ]
     },
     "execution_count": 14,
     "metadata": {},
     "output_type": "execute_result"
    }
   ],
   "source": [
    "b = a[1:, 2]\n",
    "b"
   ]
  },
  {
   "cell_type": "code",
   "execution_count": 15,
   "metadata": {},
   "outputs": [],
   "source": [
    "b[0] = 2"
   ]
  },
  {
   "cell_type": "code",
   "execution_count": 16,
   "metadata": {},
   "outputs": [
    {
     "data": {
      "text/plain": [
       "array([2.        , 0.62154097])"
      ]
     },
     "execution_count": 16,
     "metadata": {},
     "output_type": "execute_result"
    }
   ],
   "source": [
    "b"
   ]
  },
  {
   "cell_type": "code",
   "execution_count": 47,
   "metadata": {},
   "outputs": [
    {
     "data": {
      "text/plain": [
       "array([[0.44658507, 0.05122823, 0.55229485, 0.18993817],\n",
       "       [0.55395612, 0.57354935, 2.        , 0.23263646],\n",
       "       [0.47780126, 0.95407924, 0.62154097, 0.37282812]])"
      ]
     },
     "execution_count": 47,
     "metadata": {},
     "output_type": "execute_result"
    }
   ],
   "source": [
    "a"
   ]
  },
  {
   "cell_type": "code",
   "execution_count": 48,
   "metadata": {},
   "outputs": [
    {
     "data": {
      "text/plain": [
       "array([0.55395612, 0.95407924, 0.95407924])"
      ]
     },
     "execution_count": 48,
     "metadata": {},
     "output_type": "execute_result"
    }
   ],
   "source": [
    "a[[1, 2, 2], [0, 1 ,1 ]]"
   ]
  },
  {
   "cell_type": "code",
   "execution_count": 49,
   "metadata": {},
   "outputs": [],
   "source": [
    "c = a[[1,2,2], [0,1, 1]]"
   ]
  },
  {
   "cell_type": "code",
   "execution_count": 50,
   "metadata": {},
   "outputs": [
    {
     "data": {
      "text/plain": [
       "array([0.55395612, 0.95407924, 0.95407924])"
      ]
     },
     "execution_count": 50,
     "metadata": {},
     "output_type": "execute_result"
    }
   ],
   "source": [
    "c"
   ]
  },
  {
   "cell_type": "code",
   "execution_count": 51,
   "metadata": {},
   "outputs": [],
   "source": [
    "c[2] = 8"
   ]
  },
  {
   "cell_type": "code",
   "execution_count": 52,
   "metadata": {},
   "outputs": [
    {
     "data": {
      "text/plain": [
       "array([[0.44658507, 0.05122823, 0.55229485, 0.18993817],\n",
       "       [0.55395612, 0.57354935, 2.        , 0.23263646],\n",
       "       [0.47780126, 0.95407924, 0.62154097, 0.37282812]])"
      ]
     },
     "execution_count": 52,
     "metadata": {},
     "output_type": "execute_result"
    }
   ],
   "source": [
    "a"
   ]
  },
  {
   "cell_type": "code",
   "execution_count": 1,
   "metadata": {},
   "outputs": [],
   "source": [
    "import pandas as pd\n",
    "from sklearn.datasets import load_iris\n",
    "iris = load_iris()"
   ]
  },
  {
   "cell_type": "code",
   "execution_count": 2,
   "metadata": {},
   "outputs": [
    {
     "data": {
      "text/html": [
       "<div>\n",
       "<style scoped>\n",
       "    .dataframe tbody tr th:only-of-type {\n",
       "        vertical-align: middle;\n",
       "    }\n",
       "\n",
       "    .dataframe tbody tr th {\n",
       "        vertical-align: top;\n",
       "    }\n",
       "\n",
       "    .dataframe thead th {\n",
       "        text-align: right;\n",
       "    }\n",
       "</style>\n",
       "<table border=\"1\" class=\"dataframe\">\n",
       "  <thead>\n",
       "    <tr style=\"text-align: right;\">\n",
       "      <th></th>\n",
       "      <th>sepal length (cm)</th>\n",
       "      <th>sepal width (cm)</th>\n",
       "      <th>petal length (cm)</th>\n",
       "      <th>petal width (cm)</th>\n",
       "    </tr>\n",
       "  </thead>\n",
       "  <tbody>\n",
       "    <tr>\n",
       "      <th>0</th>\n",
       "      <td>5.1</td>\n",
       "      <td>3.5</td>\n",
       "      <td>1.4</td>\n",
       "      <td>0.2</td>\n",
       "    </tr>\n",
       "    <tr>\n",
       "      <th>1</th>\n",
       "      <td>4.9</td>\n",
       "      <td>3.0</td>\n",
       "      <td>1.4</td>\n",
       "      <td>0.2</td>\n",
       "    </tr>\n",
       "    <tr>\n",
       "      <th>2</th>\n",
       "      <td>4.7</td>\n",
       "      <td>3.2</td>\n",
       "      <td>1.3</td>\n",
       "      <td>0.2</td>\n",
       "    </tr>\n",
       "    <tr>\n",
       "      <th>3</th>\n",
       "      <td>4.6</td>\n",
       "      <td>3.1</td>\n",
       "      <td>1.5</td>\n",
       "      <td>0.2</td>\n",
       "    </tr>\n",
       "    <tr>\n",
       "      <th>4</th>\n",
       "      <td>5.0</td>\n",
       "      <td>3.6</td>\n",
       "      <td>1.4</td>\n",
       "      <td>0.2</td>\n",
       "    </tr>\n",
       "  </tbody>\n",
       "</table>\n",
       "</div>"
      ],
      "text/plain": [
       "   sepal length (cm)  sepal width (cm)  petal length (cm)  petal width (cm)\n",
       "0                5.1               3.5                1.4               0.2\n",
       "1                4.9               3.0                1.4               0.2\n",
       "2                4.7               3.2                1.3               0.2\n",
       "3                4.6               3.1                1.5               0.2\n",
       "4                5.0               3.6                1.4               0.2"
      ]
     },
     "execution_count": 2,
     "metadata": {},
     "output_type": "execute_result"
    }
   ],
   "source": [
    "df = pd.DataFrame(iris.data, columns=iris.feature_names)\n",
    "df.head()"
   ]
  },
  {
   "cell_type": "code",
   "execution_count": 5,
   "metadata": {},
   "outputs": [
    {
     "data": {
      "text/html": [
       "<div>\n",
       "<style scoped>\n",
       "    .dataframe tbody tr th:only-of-type {\n",
       "        vertical-align: middle;\n",
       "    }\n",
       "\n",
       "    .dataframe tbody tr th {\n",
       "        vertical-align: top;\n",
       "    }\n",
       "\n",
       "    .dataframe thead th {\n",
       "        text-align: right;\n",
       "    }\n",
       "</style>\n",
       "<table border=\"1\" class=\"dataframe\">\n",
       "  <thead>\n",
       "    <tr style=\"text-align: right;\">\n",
       "      <th></th>\n",
       "      <th>sepal length (cm)</th>\n",
       "      <th>sepal width (cm)</th>\n",
       "      <th>petal length (cm)</th>\n",
       "      <th>petal width (cm)</th>\n",
       "    </tr>\n",
       "  </thead>\n",
       "  <tbody>\n",
       "    <tr>\n",
       "      <th>0</th>\n",
       "      <td>5.1</td>\n",
       "      <td>3.5</td>\n",
       "      <td>1.4</td>\n",
       "      <td>0.2</td>\n",
       "    </tr>\n",
       "    <tr>\n",
       "      <th>1</th>\n",
       "      <td>10.0</td>\n",
       "      <td>6.5</td>\n",
       "      <td>2.8</td>\n",
       "      <td>0.4</td>\n",
       "    </tr>\n",
       "    <tr>\n",
       "      <th>2</th>\n",
       "      <td>14.7</td>\n",
       "      <td>9.7</td>\n",
       "      <td>4.1</td>\n",
       "      <td>0.6</td>\n",
       "    </tr>\n",
       "    <tr>\n",
       "      <th>3</th>\n",
       "      <td>19.3</td>\n",
       "      <td>12.8</td>\n",
       "      <td>5.6</td>\n",
       "      <td>0.8</td>\n",
       "    </tr>\n",
       "    <tr>\n",
       "      <th>4</th>\n",
       "      <td>24.3</td>\n",
       "      <td>16.4</td>\n",
       "      <td>7.0</td>\n",
       "      <td>1.0</td>\n",
       "    </tr>\n",
       "    <tr>\n",
       "      <th>5</th>\n",
       "      <td>29.7</td>\n",
       "      <td>20.3</td>\n",
       "      <td>8.7</td>\n",
       "      <td>1.4</td>\n",
       "    </tr>\n",
       "    <tr>\n",
       "      <th>6</th>\n",
       "      <td>34.3</td>\n",
       "      <td>23.7</td>\n",
       "      <td>10.1</td>\n",
       "      <td>1.7</td>\n",
       "    </tr>\n",
       "    <tr>\n",
       "      <th>7</th>\n",
       "      <td>39.3</td>\n",
       "      <td>27.1</td>\n",
       "      <td>11.6</td>\n",
       "      <td>1.9</td>\n",
       "    </tr>\n",
       "    <tr>\n",
       "      <th>8</th>\n",
       "      <td>43.7</td>\n",
       "      <td>30.0</td>\n",
       "      <td>13.0</td>\n",
       "      <td>2.1</td>\n",
       "    </tr>\n",
       "    <tr>\n",
       "      <th>9</th>\n",
       "      <td>48.6</td>\n",
       "      <td>33.1</td>\n",
       "      <td>14.5</td>\n",
       "      <td>2.2</td>\n",
       "    </tr>\n",
       "    <tr>\n",
       "      <th>10</th>\n",
       "      <td>54.0</td>\n",
       "      <td>36.8</td>\n",
       "      <td>16.0</td>\n",
       "      <td>2.4</td>\n",
       "    </tr>\n",
       "    <tr>\n",
       "      <th>11</th>\n",
       "      <td>58.8</td>\n",
       "      <td>40.2</td>\n",
       "      <td>17.6</td>\n",
       "      <td>2.6</td>\n",
       "    </tr>\n",
       "    <tr>\n",
       "      <th>12</th>\n",
       "      <td>63.6</td>\n",
       "      <td>43.2</td>\n",
       "      <td>19.0</td>\n",
       "      <td>2.7</td>\n",
       "    </tr>\n",
       "    <tr>\n",
       "      <th>13</th>\n",
       "      <td>67.9</td>\n",
       "      <td>46.2</td>\n",
       "      <td>20.1</td>\n",
       "      <td>2.8</td>\n",
       "    </tr>\n",
       "    <tr>\n",
       "      <th>14</th>\n",
       "      <td>73.7</td>\n",
       "      <td>50.2</td>\n",
       "      <td>21.3</td>\n",
       "      <td>3.0</td>\n",
       "    </tr>\n",
       "    <tr>\n",
       "      <th>15</th>\n",
       "      <td>79.4</td>\n",
       "      <td>54.6</td>\n",
       "      <td>22.8</td>\n",
       "      <td>3.4</td>\n",
       "    </tr>\n",
       "    <tr>\n",
       "      <th>16</th>\n",
       "      <td>84.8</td>\n",
       "      <td>58.5</td>\n",
       "      <td>24.1</td>\n",
       "      <td>3.8</td>\n",
       "    </tr>\n",
       "    <tr>\n",
       "      <th>17</th>\n",
       "      <td>89.9</td>\n",
       "      <td>62.0</td>\n",
       "      <td>25.5</td>\n",
       "      <td>4.1</td>\n",
       "    </tr>\n",
       "    <tr>\n",
       "      <th>18</th>\n",
       "      <td>95.6</td>\n",
       "      <td>65.8</td>\n",
       "      <td>27.2</td>\n",
       "      <td>4.4</td>\n",
       "    </tr>\n",
       "    <tr>\n",
       "      <th>19</th>\n",
       "      <td>100.7</td>\n",
       "      <td>69.6</td>\n",
       "      <td>28.7</td>\n",
       "      <td>4.7</td>\n",
       "    </tr>\n",
       "    <tr>\n",
       "      <th>20</th>\n",
       "      <td>106.1</td>\n",
       "      <td>73.0</td>\n",
       "      <td>30.4</td>\n",
       "      <td>4.9</td>\n",
       "    </tr>\n",
       "    <tr>\n",
       "      <th>21</th>\n",
       "      <td>111.2</td>\n",
       "      <td>76.7</td>\n",
       "      <td>31.9</td>\n",
       "      <td>5.3</td>\n",
       "    </tr>\n",
       "    <tr>\n",
       "      <th>22</th>\n",
       "      <td>115.8</td>\n",
       "      <td>80.3</td>\n",
       "      <td>32.9</td>\n",
       "      <td>5.5</td>\n",
       "    </tr>\n",
       "    <tr>\n",
       "      <th>23</th>\n",
       "      <td>120.9</td>\n",
       "      <td>83.6</td>\n",
       "      <td>34.6</td>\n",
       "      <td>6.0</td>\n",
       "    </tr>\n",
       "    <tr>\n",
       "      <th>24</th>\n",
       "      <td>125.7</td>\n",
       "      <td>87.0</td>\n",
       "      <td>36.5</td>\n",
       "      <td>6.2</td>\n",
       "    </tr>\n",
       "    <tr>\n",
       "      <th>25</th>\n",
       "      <td>130.7</td>\n",
       "      <td>90.0</td>\n",
       "      <td>38.1</td>\n",
       "      <td>6.4</td>\n",
       "    </tr>\n",
       "    <tr>\n",
       "      <th>26</th>\n",
       "      <td>135.7</td>\n",
       "      <td>93.4</td>\n",
       "      <td>39.7</td>\n",
       "      <td>6.8</td>\n",
       "    </tr>\n",
       "    <tr>\n",
       "      <th>27</th>\n",
       "      <td>140.9</td>\n",
       "      <td>96.9</td>\n",
       "      <td>41.2</td>\n",
       "      <td>7.0</td>\n",
       "    </tr>\n",
       "    <tr>\n",
       "      <th>28</th>\n",
       "      <td>146.1</td>\n",
       "      <td>100.3</td>\n",
       "      <td>42.6</td>\n",
       "      <td>7.2</td>\n",
       "    </tr>\n",
       "    <tr>\n",
       "      <th>29</th>\n",
       "      <td>150.8</td>\n",
       "      <td>103.5</td>\n",
       "      <td>44.2</td>\n",
       "      <td>7.4</td>\n",
       "    </tr>\n",
       "    <tr>\n",
       "      <th>...</th>\n",
       "      <td>...</td>\n",
       "      <td>...</td>\n",
       "      <td>...</td>\n",
       "      <td>...</td>\n",
       "    </tr>\n",
       "    <tr>\n",
       "      <th>120</th>\n",
       "      <td>685.2</td>\n",
       "      <td>371.5</td>\n",
       "      <td>404.9</td>\n",
       "      <td>121.8</td>\n",
       "    </tr>\n",
       "    <tr>\n",
       "      <th>121</th>\n",
       "      <td>690.8</td>\n",
       "      <td>374.3</td>\n",
       "      <td>409.8</td>\n",
       "      <td>123.8</td>\n",
       "    </tr>\n",
       "    <tr>\n",
       "      <th>122</th>\n",
       "      <td>698.5</td>\n",
       "      <td>377.1</td>\n",
       "      <td>416.5</td>\n",
       "      <td>125.8</td>\n",
       "    </tr>\n",
       "    <tr>\n",
       "      <th>123</th>\n",
       "      <td>704.8</td>\n",
       "      <td>379.8</td>\n",
       "      <td>421.4</td>\n",
       "      <td>127.6</td>\n",
       "    </tr>\n",
       "    <tr>\n",
       "      <th>124</th>\n",
       "      <td>711.5</td>\n",
       "      <td>383.1</td>\n",
       "      <td>427.1</td>\n",
       "      <td>129.7</td>\n",
       "    </tr>\n",
       "    <tr>\n",
       "      <th>125</th>\n",
       "      <td>718.7</td>\n",
       "      <td>386.3</td>\n",
       "      <td>433.1</td>\n",
       "      <td>131.5</td>\n",
       "    </tr>\n",
       "    <tr>\n",
       "      <th>126</th>\n",
       "      <td>724.9</td>\n",
       "      <td>389.1</td>\n",
       "      <td>437.9</td>\n",
       "      <td>133.3</td>\n",
       "    </tr>\n",
       "    <tr>\n",
       "      <th>127</th>\n",
       "      <td>731.0</td>\n",
       "      <td>392.1</td>\n",
       "      <td>442.8</td>\n",
       "      <td>135.1</td>\n",
       "    </tr>\n",
       "    <tr>\n",
       "      <th>128</th>\n",
       "      <td>737.4</td>\n",
       "      <td>394.9</td>\n",
       "      <td>448.4</td>\n",
       "      <td>137.2</td>\n",
       "    </tr>\n",
       "    <tr>\n",
       "      <th>129</th>\n",
       "      <td>744.6</td>\n",
       "      <td>397.9</td>\n",
       "      <td>454.2</td>\n",
       "      <td>138.8</td>\n",
       "    </tr>\n",
       "    <tr>\n",
       "      <th>130</th>\n",
       "      <td>752.0</td>\n",
       "      <td>400.7</td>\n",
       "      <td>460.3</td>\n",
       "      <td>140.7</td>\n",
       "    </tr>\n",
       "    <tr>\n",
       "      <th>131</th>\n",
       "      <td>759.9</td>\n",
       "      <td>404.5</td>\n",
       "      <td>466.7</td>\n",
       "      <td>142.7</td>\n",
       "    </tr>\n",
       "    <tr>\n",
       "      <th>132</th>\n",
       "      <td>766.3</td>\n",
       "      <td>407.3</td>\n",
       "      <td>472.3</td>\n",
       "      <td>144.9</td>\n",
       "    </tr>\n",
       "    <tr>\n",
       "      <th>133</th>\n",
       "      <td>772.6</td>\n",
       "      <td>410.1</td>\n",
       "      <td>477.4</td>\n",
       "      <td>146.4</td>\n",
       "    </tr>\n",
       "    <tr>\n",
       "      <th>134</th>\n",
       "      <td>778.7</td>\n",
       "      <td>412.7</td>\n",
       "      <td>483.0</td>\n",
       "      <td>147.8</td>\n",
       "    </tr>\n",
       "    <tr>\n",
       "      <th>135</th>\n",
       "      <td>786.4</td>\n",
       "      <td>415.7</td>\n",
       "      <td>489.1</td>\n",
       "      <td>150.1</td>\n",
       "    </tr>\n",
       "    <tr>\n",
       "      <th>136</th>\n",
       "      <td>792.7</td>\n",
       "      <td>419.1</td>\n",
       "      <td>494.7</td>\n",
       "      <td>152.5</td>\n",
       "    </tr>\n",
       "    <tr>\n",
       "      <th>137</th>\n",
       "      <td>799.1</td>\n",
       "      <td>422.2</td>\n",
       "      <td>500.2</td>\n",
       "      <td>154.3</td>\n",
       "    </tr>\n",
       "    <tr>\n",
       "      <th>138</th>\n",
       "      <td>805.1</td>\n",
       "      <td>425.2</td>\n",
       "      <td>505.0</td>\n",
       "      <td>156.1</td>\n",
       "    </tr>\n",
       "    <tr>\n",
       "      <th>139</th>\n",
       "      <td>812.0</td>\n",
       "      <td>428.3</td>\n",
       "      <td>510.4</td>\n",
       "      <td>158.2</td>\n",
       "    </tr>\n",
       "    <tr>\n",
       "      <th>140</th>\n",
       "      <td>818.7</td>\n",
       "      <td>431.4</td>\n",
       "      <td>516.0</td>\n",
       "      <td>160.6</td>\n",
       "    </tr>\n",
       "    <tr>\n",
       "      <th>141</th>\n",
       "      <td>825.6</td>\n",
       "      <td>434.5</td>\n",
       "      <td>521.1</td>\n",
       "      <td>162.9</td>\n",
       "    </tr>\n",
       "    <tr>\n",
       "      <th>142</th>\n",
       "      <td>831.4</td>\n",
       "      <td>437.2</td>\n",
       "      <td>526.2</td>\n",
       "      <td>164.8</td>\n",
       "    </tr>\n",
       "    <tr>\n",
       "      <th>143</th>\n",
       "      <td>838.2</td>\n",
       "      <td>440.4</td>\n",
       "      <td>532.1</td>\n",
       "      <td>167.1</td>\n",
       "    </tr>\n",
       "    <tr>\n",
       "      <th>144</th>\n",
       "      <td>844.9</td>\n",
       "      <td>443.7</td>\n",
       "      <td>537.8</td>\n",
       "      <td>169.6</td>\n",
       "    </tr>\n",
       "    <tr>\n",
       "      <th>145</th>\n",
       "      <td>851.6</td>\n",
       "      <td>446.7</td>\n",
       "      <td>543.0</td>\n",
       "      <td>171.9</td>\n",
       "    </tr>\n",
       "    <tr>\n",
       "      <th>146</th>\n",
       "      <td>857.9</td>\n",
       "      <td>449.2</td>\n",
       "      <td>548.0</td>\n",
       "      <td>173.8</td>\n",
       "    </tr>\n",
       "    <tr>\n",
       "      <th>147</th>\n",
       "      <td>864.4</td>\n",
       "      <td>452.2</td>\n",
       "      <td>553.2</td>\n",
       "      <td>175.8</td>\n",
       "    </tr>\n",
       "    <tr>\n",
       "      <th>148</th>\n",
       "      <td>870.6</td>\n",
       "      <td>455.6</td>\n",
       "      <td>558.6</td>\n",
       "      <td>178.1</td>\n",
       "    </tr>\n",
       "    <tr>\n",
       "      <th>149</th>\n",
       "      <td>876.5</td>\n",
       "      <td>458.6</td>\n",
       "      <td>563.7</td>\n",
       "      <td>179.9</td>\n",
       "    </tr>\n",
       "  </tbody>\n",
       "</table>\n",
       "<p>150 rows × 4 columns</p>\n",
       "</div>"
      ],
      "text/plain": [
       "     sepal length (cm)  sepal width (cm)  petal length (cm)  petal width (cm)\n",
       "0                  5.1               3.5                1.4               0.2\n",
       "1                 10.0               6.5                2.8               0.4\n",
       "2                 14.7               9.7                4.1               0.6\n",
       "3                 19.3              12.8                5.6               0.8\n",
       "4                 24.3              16.4                7.0               1.0\n",
       "5                 29.7              20.3                8.7               1.4\n",
       "6                 34.3              23.7               10.1               1.7\n",
       "7                 39.3              27.1               11.6               1.9\n",
       "8                 43.7              30.0               13.0               2.1\n",
       "9                 48.6              33.1               14.5               2.2\n",
       "10                54.0              36.8               16.0               2.4\n",
       "11                58.8              40.2               17.6               2.6\n",
       "12                63.6              43.2               19.0               2.7\n",
       "13                67.9              46.2               20.1               2.8\n",
       "14                73.7              50.2               21.3               3.0\n",
       "15                79.4              54.6               22.8               3.4\n",
       "16                84.8              58.5               24.1               3.8\n",
       "17                89.9              62.0               25.5               4.1\n",
       "18                95.6              65.8               27.2               4.4\n",
       "19               100.7              69.6               28.7               4.7\n",
       "20               106.1              73.0               30.4               4.9\n",
       "21               111.2              76.7               31.9               5.3\n",
       "22               115.8              80.3               32.9               5.5\n",
       "23               120.9              83.6               34.6               6.0\n",
       "24               125.7              87.0               36.5               6.2\n",
       "25               130.7              90.0               38.1               6.4\n",
       "26               135.7              93.4               39.7               6.8\n",
       "27               140.9              96.9               41.2               7.0\n",
       "28               146.1             100.3               42.6               7.2\n",
       "29               150.8             103.5               44.2               7.4\n",
       "..                 ...               ...                ...               ...\n",
       "120              685.2             371.5              404.9             121.8\n",
       "121              690.8             374.3              409.8             123.8\n",
       "122              698.5             377.1              416.5             125.8\n",
       "123              704.8             379.8              421.4             127.6\n",
       "124              711.5             383.1              427.1             129.7\n",
       "125              718.7             386.3              433.1             131.5\n",
       "126              724.9             389.1              437.9             133.3\n",
       "127              731.0             392.1              442.8             135.1\n",
       "128              737.4             394.9              448.4             137.2\n",
       "129              744.6             397.9              454.2             138.8\n",
       "130              752.0             400.7              460.3             140.7\n",
       "131              759.9             404.5              466.7             142.7\n",
       "132              766.3             407.3              472.3             144.9\n",
       "133              772.6             410.1              477.4             146.4\n",
       "134              778.7             412.7              483.0             147.8\n",
       "135              786.4             415.7              489.1             150.1\n",
       "136              792.7             419.1              494.7             152.5\n",
       "137              799.1             422.2              500.2             154.3\n",
       "138              805.1             425.2              505.0             156.1\n",
       "139              812.0             428.3              510.4             158.2\n",
       "140              818.7             431.4              516.0             160.6\n",
       "141              825.6             434.5              521.1             162.9\n",
       "142              831.4             437.2              526.2             164.8\n",
       "143              838.2             440.4              532.1             167.1\n",
       "144              844.9             443.7              537.8             169.6\n",
       "145              851.6             446.7              543.0             171.9\n",
       "146              857.9             449.2              548.0             173.8\n",
       "147              864.4             452.2              553.2             175.8\n",
       "148              870.6             455.6              558.6             178.1\n",
       "149              876.5             458.6              563.7             179.9\n",
       "\n",
       "[150 rows x 4 columns]"
      ]
     },
     "execution_count": 5,
     "metadata": {},
     "output_type": "execute_result"
    }
   ],
   "source": [
    "df.cumsum()"
   ]
  }
 ],
 "metadata": {
  "kernelspec": {
   "display_name": "Python 3",
   "language": "python",
   "name": "python3"
  },
  "language_info": {
   "codemirror_mode": {
    "name": "ipython",
    "version": 3
   },
   "file_extension": ".py",
   "mimetype": "text/x-python",
   "name": "python",
   "nbconvert_exporter": "python",
   "pygments_lexer": "ipython3",
   "version": "3.7.1"
  }
 },
 "nbformat": 4,
 "nbformat_minor": 2
}
