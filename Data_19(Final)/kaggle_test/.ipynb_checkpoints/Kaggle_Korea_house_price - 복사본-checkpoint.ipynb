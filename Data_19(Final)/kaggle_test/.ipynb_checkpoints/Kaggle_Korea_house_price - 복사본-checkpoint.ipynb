{
 "cells": [
  {
   "cell_type": "markdown",
   "metadata": {},
   "source": [
    "# 대회 소개 "
   ]
  },
  {
   "cell_type": "markdown",
   "metadata": {},
   "source": []
  },
  {
   "cell_type": "markdown",
   "metadata": {},
   "source": [
    "## File descriptions\n",
    "#### train.csv - 예측 모델을 만들기 위해 사용하는 학습 데이터입니다. \n",
    "#### 집의 정보와 예측할 변수인 가격(Price) 변수를 가지고 있습니다.\n",
    "#### test.csv - 학습셋으로 만든 모델을 가지고 예측할 가격(Price) 변수를 제외한 집의 정보가 담긴 테스트 데이터 입니다.\n",
    "#### sample_submission.csv - 제출시 사용할 수 있는 예시 submission.csv 파일입니다.\n",
    "\n",
    "## Data fields\n",
    "#### ID : 집을 구분하는 번호\n",
    "#### date : 집을 구매한 날짜\n",
    "#### price : 집의 가격(Target variable)\n",
    "#### bedrooms : 침실의 수\n",
    "#### bathrooms : 화장실의 수\n",
    "#### sqft_living : 주거 공간의 평방 피트(면적)\n",
    "#### sqft_lot : 부지의 평방 피트(면적)\n",
    "#### floors : 집의 층 수\n",
    "#### waterfront : 집의 전방에 강이 흐르는지 유무 (a.k.a. 리버뷰)\n",
    "#### view : 집이 얼마나 좋아 보이는지의 정도\n",
    "#### condition : 집의 전반적인 상태\n",
    "#### grade : King County grading 시스템 기준으로 매긴 집의 등급\n",
    "#### sqft_above : 지하실을 제외한 평방 피트(면적)\n",
    "#### sqft_basement : 지하실의 평방 피트(면적)\n",
    "#### yr_built : 지어진 년도\n",
    "#### yr_renovated : 집을 재건축한 년도\n",
    "#### zipcode : 우편번호\n",
    "#### lat : 위도\n",
    "#### long : 경도\n",
    "#### sqft_living15 : 2015년 기준 주거 공간의 평방 피트(면적, 집을 재건축했다면, 변화가 있을 수 있음)\n",
    "#### sqft_lot15 : 2015년 기준 부지의 평방 피트(면적, 집을 재건축했다면, 변화가 있을 수 있음)"
   ]
  },
  {
   "cell_type": "markdown",
   "metadata": {},
   "source": [
    "### 데이터에 대한 전처리를 train, test.csv 모두 동일하게 진행한 후 가장 주택가격을 잘 예측할 수 있는 모델을 선정하여\n",
    "\n",
    "### test.csv의 특성들을 가지고 price를 예측한 후 submission 파일 형식에 맞게 작성합니다. 제한시간내에 제출한 \n",
    "### 결과값 중 가장 높은 등수와 해당 점수를 캡처하여 작성하신 코드와 함께 제출합니다"
   ]
  },
  {
   "cell_type": "code",
   "execution_count": 1,
   "metadata": {},
   "outputs": [],
   "source": [
    "####### module import \n",
    "import pandas as pd \n",
    "import numpy as np \n",
    "import matplotlib.pyplot as plt\n",
    "import seaborn as sns\n",
    "# Suppress Deprecation and Incorrect Usage Warnings \n",
    "import warnings\n",
    "warnings.filterwarnings('ignore')\n"
   ]
  },
  {
   "cell_type": "code",
   "execution_count": 2,
   "metadata": {},
   "outputs": [],
   "source": [
    "def getCost(data):\n",
    "    return np.sqrt( np.sum( (data['pre'] - data['price'])**2 ) / len(data)   )"
   ]
  },
  {
   "cell_type": "code",
   "execution_count": 3,
   "metadata": {},
   "outputs": [],
   "source": [
    "def get_best_score(model):\n",
    "    \n",
    "    print(model.best_score_)    \n",
    "    print(model.best_params_)\n",
    "    print(model.best_estimator_)\n",
    "    \n",
    "    return model.best_score_"
   ]
  },
  {
   "cell_type": "code",
   "execution_count": 4,
   "metadata": {},
   "outputs": [
    {
     "data": {
      "text/plain": [
       "15035"
      ]
     },
     "execution_count": 4,
     "metadata": {},
     "output_type": "execute_result"
    }
   ],
   "source": [
    "train = pd.read_csv('train.csv')\n",
    "test =pd.read_csv('test.csv')\n",
    "train.describe()\n",
    "len(train)"
   ]
  },
  {
   "cell_type": "code",
   "execution_count": 5,
   "metadata": {},
   "outputs": [
    {
     "data": {
      "text/plain": [
       "Index(['id', 'date', 'price', 'bedrooms', 'bathrooms', 'sqft_living',\n",
       "       'sqft_lot', 'floors', 'waterfront', 'view', 'condition', 'grade',\n",
       "       'sqft_above', 'sqft_basement', 'yr_built', 'yr_renovated', 'zipcode',\n",
       "       'lat', 'long', 'sqft_living15', 'sqft_lot15'],\n",
       "      dtype='object')"
      ]
     },
     "execution_count": 5,
     "metadata": {},
     "output_type": "execute_result"
    }
   ],
   "source": [
    "train.columns"
   ]
  },
  {
   "cell_type": "code",
   "execution_count": 6,
   "metadata": {},
   "outputs": [],
   "source": [
    "# corrMatt = train_data[['date', 'price', 'bedrooms', 'bathrooms', 'sqft_living',\n",
    "#        'sqft_lot', 'floors', 'waterfront', 'view', 'condition', 'grade',\n",
    "#        'sqft_above', 'sqft_basement', 'yr_built', 'yr_renovated', 'zipcode',\n",
    "#        'lat', 'long', 'sqft_living15', 'sqft_lot15']]\n",
    "# corrMatt = corrMatt.corr()\n",
    "# figure, ax = plt.subplots(nrows=1,ncols=1)\n",
    "# figure.set_size_inches(30,30)\n",
    "# sns.heatmap(corrMatt, vmax=0.8, square=True,annot=True)\n"
   ]
  },
  {
   "cell_type": "code",
   "execution_count": 7,
   "metadata": {},
   "outputs": [
    {
     "data": {
      "text/html": [
       "<div>\n",
       "<style scoped>\n",
       "    .dataframe tbody tr th:only-of-type {\n",
       "        vertical-align: middle;\n",
       "    }\n",
       "\n",
       "    .dataframe tbody tr th {\n",
       "        vertical-align: top;\n",
       "    }\n",
       "\n",
       "    .dataframe thead th {\n",
       "        text-align: right;\n",
       "    }\n",
       "</style>\n",
       "<table border=\"1\" class=\"dataframe\">\n",
       "  <thead>\n",
       "    <tr style=\"text-align: right;\">\n",
       "      <th></th>\n",
       "      <th>id</th>\n",
       "      <th>date</th>\n",
       "      <th>price</th>\n",
       "      <th>bedrooms</th>\n",
       "      <th>bathrooms</th>\n",
       "      <th>sqft_living</th>\n",
       "      <th>sqft_lot</th>\n",
       "      <th>floors</th>\n",
       "      <th>waterfront</th>\n",
       "      <th>view</th>\n",
       "      <th>...</th>\n",
       "      <th>yr_built</th>\n",
       "      <th>yr_renovated</th>\n",
       "      <th>zipcode</th>\n",
       "      <th>lat</th>\n",
       "      <th>long</th>\n",
       "      <th>sqft_living15</th>\n",
       "      <th>sqft_lot15</th>\n",
       "      <th>year</th>\n",
       "      <th>month</th>\n",
       "      <th>day</th>\n",
       "    </tr>\n",
       "  </thead>\n",
       "  <tbody>\n",
       "    <tr>\n",
       "      <th>0</th>\n",
       "      <td>0</td>\n",
       "      <td>20141013</td>\n",
       "      <td>221900.0</td>\n",
       "      <td>3</td>\n",
       "      <td>1.00</td>\n",
       "      <td>1180</td>\n",
       "      <td>5650</td>\n",
       "      <td>1.0</td>\n",
       "      <td>0</td>\n",
       "      <td>0</td>\n",
       "      <td>...</td>\n",
       "      <td>1955</td>\n",
       "      <td>0</td>\n",
       "      <td>98178</td>\n",
       "      <td>47.5112</td>\n",
       "      <td>-122.257</td>\n",
       "      <td>1340</td>\n",
       "      <td>5650</td>\n",
       "      <td>2014</td>\n",
       "      <td>10</td>\n",
       "      <td>13</td>\n",
       "    </tr>\n",
       "    <tr>\n",
       "      <th>1</th>\n",
       "      <td>1</td>\n",
       "      <td>20150225</td>\n",
       "      <td>180000.0</td>\n",
       "      <td>2</td>\n",
       "      <td>1.00</td>\n",
       "      <td>770</td>\n",
       "      <td>10000</td>\n",
       "      <td>1.0</td>\n",
       "      <td>0</td>\n",
       "      <td>0</td>\n",
       "      <td>...</td>\n",
       "      <td>1933</td>\n",
       "      <td>0</td>\n",
       "      <td>98028</td>\n",
       "      <td>47.7379</td>\n",
       "      <td>-122.233</td>\n",
       "      <td>2720</td>\n",
       "      <td>8062</td>\n",
       "      <td>2015</td>\n",
       "      <td>02</td>\n",
       "      <td>25</td>\n",
       "    </tr>\n",
       "    <tr>\n",
       "      <th>2</th>\n",
       "      <td>2</td>\n",
       "      <td>20150218</td>\n",
       "      <td>510000.0</td>\n",
       "      <td>3</td>\n",
       "      <td>2.00</td>\n",
       "      <td>1680</td>\n",
       "      <td>8080</td>\n",
       "      <td>1.0</td>\n",
       "      <td>0</td>\n",
       "      <td>0</td>\n",
       "      <td>...</td>\n",
       "      <td>1987</td>\n",
       "      <td>0</td>\n",
       "      <td>98074</td>\n",
       "      <td>47.6168</td>\n",
       "      <td>-122.045</td>\n",
       "      <td>1800</td>\n",
       "      <td>7503</td>\n",
       "      <td>2015</td>\n",
       "      <td>02</td>\n",
       "      <td>18</td>\n",
       "    </tr>\n",
       "    <tr>\n",
       "      <th>3</th>\n",
       "      <td>3</td>\n",
       "      <td>20140627</td>\n",
       "      <td>257500.0</td>\n",
       "      <td>3</td>\n",
       "      <td>2.25</td>\n",
       "      <td>1715</td>\n",
       "      <td>6819</td>\n",
       "      <td>2.0</td>\n",
       "      <td>0</td>\n",
       "      <td>0</td>\n",
       "      <td>...</td>\n",
       "      <td>1995</td>\n",
       "      <td>0</td>\n",
       "      <td>98003</td>\n",
       "      <td>47.3097</td>\n",
       "      <td>-122.327</td>\n",
       "      <td>2238</td>\n",
       "      <td>6819</td>\n",
       "      <td>2014</td>\n",
       "      <td>06</td>\n",
       "      <td>27</td>\n",
       "    </tr>\n",
       "    <tr>\n",
       "      <th>4</th>\n",
       "      <td>4</td>\n",
       "      <td>20150115</td>\n",
       "      <td>291850.0</td>\n",
       "      <td>3</td>\n",
       "      <td>1.50</td>\n",
       "      <td>1060</td>\n",
       "      <td>9711</td>\n",
       "      <td>1.0</td>\n",
       "      <td>0</td>\n",
       "      <td>0</td>\n",
       "      <td>...</td>\n",
       "      <td>1963</td>\n",
       "      <td>0</td>\n",
       "      <td>98198</td>\n",
       "      <td>47.4095</td>\n",
       "      <td>-122.315</td>\n",
       "      <td>1650</td>\n",
       "      <td>9711</td>\n",
       "      <td>2015</td>\n",
       "      <td>01</td>\n",
       "      <td>15</td>\n",
       "    </tr>\n",
       "  </tbody>\n",
       "</table>\n",
       "<p>5 rows × 24 columns</p>\n",
       "</div>"
      ],
      "text/plain": [
       "   id      date     price  bedrooms  bathrooms  sqft_living  sqft_lot  floors  \\\n",
       "0   0  20141013  221900.0         3       1.00         1180      5650     1.0   \n",
       "1   1  20150225  180000.0         2       1.00          770     10000     1.0   \n",
       "2   2  20150218  510000.0         3       2.00         1680      8080     1.0   \n",
       "3   3  20140627  257500.0         3       2.25         1715      6819     2.0   \n",
       "4   4  20150115  291850.0         3       1.50         1060      9711     1.0   \n",
       "\n",
       "   waterfront  view ...   yr_built  yr_renovated  zipcode      lat     long  \\\n",
       "0           0     0 ...       1955             0    98178  47.5112 -122.257   \n",
       "1           0     0 ...       1933             0    98028  47.7379 -122.233   \n",
       "2           0     0 ...       1987             0    98074  47.6168 -122.045   \n",
       "3           0     0 ...       1995             0    98003  47.3097 -122.327   \n",
       "4           0     0 ...       1963             0    98198  47.4095 -122.315   \n",
       "\n",
       "   sqft_living15  sqft_lot15  year  month  day  \n",
       "0           1340        5650  2014     10   13  \n",
       "1           2720        8062  2015     02   25  \n",
       "2           1800        7503  2015     02   18  \n",
       "3           2238        6819  2014     06   27  \n",
       "4           1650        9711  2015     01   15  \n",
       "\n",
       "[5 rows x 24 columns]"
      ]
     },
     "execution_count": 7,
     "metadata": {},
     "output_type": "execute_result"
    }
   ],
   "source": [
    "train['date'] = train['date'].apply(lambda x : x[0:8])\n",
    "train['year'] = train['date'].apply(lambda x : x[0:4])\n",
    "train['month'] = train['date'].apply(lambda x : x[4:6])\n",
    "train['day'] = train['date'].apply(lambda x : x[6:8])\n",
    "\n",
    "test['date'] = test['date'].apply(lambda x : x[0:8])\n",
    "test['year'] = test['date'].apply(lambda x : x[0:4])\n",
    "test['month'] = test['date'].apply(lambda x : x[4:6])\n",
    "test['day'] = test['date'].apply(lambda x : x[6:8])\n",
    "\n",
    "train.head()"
   ]
  },
  {
   "cell_type": "code",
   "execution_count": 8,
   "metadata": {},
   "outputs": [
    {
     "data": {
      "text/plain": [
       "<matplotlib.axes._subplots.AxesSubplot at 0xa352f60>"
      ]
     },
     "execution_count": 8,
     "metadata": {},
     "output_type": "execute_result"
    },
    {
     "data": {
      "image/png": "[encoded data removed]",
      "text/plain": [
       "<Figure size 1296x720 with 6 Axes>"
      ]
     },
     "metadata": {
      "needs_background": "light"
     },
     "output_type": "display_data"
    }
   ],
   "source": [
    "figure, ((ax1,ax2,ax3), (ax4,ax5,ax6)) = plt.subplots(nrows=2, ncols=3)\n",
    "figure.set_size_inches(18,10)\n",
    "\n",
    "sns.pointplot(data=train, x='year', y='price', ax=ax1)\n",
    "sns.barplot(data=train, x='month', y='price', ax=ax2)\n",
    "sns.barplot(data=train, x='day', y='price', ax=ax3)\n",
    "# sns.barplot(data=train, x='hour', y='count', ax=ax4)\n",
    "# sns.barplot(data=train, x='minute', y='count', ax=ax5)\n",
    "# sns.barplot(data=train, x='second', y='count', ax=ax6)"
   ]
  },
  {
   "cell_type": "code",
   "execution_count": null,
   "metadata": {},
   "outputs": [],
   "source": []
  },
  {
   "cell_type": "code",
   "execution_count": 9,
   "metadata": {},
   "outputs": [
    {
     "data": {
      "text/plain": [
       "array([False])"
      ]
     },
     "execution_count": 9,
     "metadata": {},
     "output_type": "execute_result"
    }
   ],
   "source": [
    "#거리 구하기\n",
    "from haversine import haversine\n",
    "\n",
    "dis_amazon = []\n",
    "dis_mercer = []\n",
    "is_mercer = []\n",
    "for i,j in zip(train['lat'],train['long']):    \n",
    "    distance = haversine((i,j), (47.603230,-122.330280))\n",
    "    dis_amazon.append(distance)\n",
    "    distance2 = haversine((i,j), (47.583316,-122.236008))\n",
    "    dis_mercer.append(distance2)\n",
    "\n",
    "    if (i > -122.256194) & (i < -122.199663) & (j < 47.594725) & (j > 47.526403):\n",
    "        is_mercer.append(True)\n",
    "    else:\n",
    "        is_mercer.append(False)\n",
    "    \n",
    "disa = pd.DataFrame(dis_amazon)\n",
    "disa2 = pd.DataFrame(dis_mercer)\n",
    "is_mercer_df = pd.DataFrame(is_mercer)\n",
    "\n",
    "train['distanceFromAmazon'] = disa\n",
    "train['distanceFromMercer'] = disa2\n",
    "train['is_mercer'] = is_mercer_df \n",
    "\n",
    "#머서아일랜드 인지 아닌지\n",
    "train['is_mercer'].unique()"
   ]
  },
  {
   "cell_type": "code",
   "execution_count": 10,
   "metadata": {},
   "outputs": [
    {
     "data": {
      "text/plain": [
       "array([False])"
      ]
     },
     "execution_count": 10,
     "metadata": {},
     "output_type": "execute_result"
    }
   ],
   "source": [
    "#거리 구하기\n",
    "from haversine import haversine\n",
    "\n",
    "dis_amazon = []\n",
    "dis_mercer = []\n",
    "is_mercer = []\n",
    "for i,j in zip(test['lat'],test['long']):    \n",
    "    distance = haversine((i,j), (47.603230,-122.330280))\n",
    "    dis_amazon.append(distance)\n",
    "    distance2 = haversine((i,j), (47.583316,-122.236008))\n",
    "    dis_mercer.append(distance2)\n",
    "\n",
    "    if (i > -122.256194) & (i < -122.199663) & (j < 47.594725) & (j > 47.526403):\n",
    "        is_mercer.append(True)\n",
    "    else:\n",
    "        is_mercer.append(False)\n",
    "    \n",
    "disa = pd.DataFrame(dis_amazon)\n",
    "disa2 = pd.DataFrame(dis_mercer)\n",
    "is_mercer_df = pd.DataFrame(is_mercer)\n",
    "\n",
    "test['distanceFromAmazon'] = disa\n",
    "test['distanceFromMercer'] = disa2\n",
    "test['is_mercer'] = is_mercer_df \n",
    "\n",
    "#머서아일랜드 인지 아닌지\n",
    "test['is_mercer'].unique()"
   ]
  },
  {
   "cell_type": "code",
   "execution_count": 11,
   "metadata": {},
   "outputs": [
    {
     "data": {
      "text/plain": [
       "Index(['id', 'date', 'price', 'bedrooms', 'bathrooms', 'sqft_living',\n",
       "       'sqft_lot', 'floors', 'waterfront', 'view', 'condition', 'grade',\n",
       "       'sqft_above', 'sqft_basement', 'yr_built', 'yr_renovated', 'zipcode',\n",
       "       'lat', 'long', 'sqft_living15', 'sqft_lot15', 'year', 'month', 'day',\n",
       "       'distanceFromAmazon', 'distanceFromMercer', 'is_mercer'],\n",
       "      dtype='object')"
      ]
     },
     "execution_count": 11,
     "metadata": {},
     "output_type": "execute_result"
    }
   ],
   "source": [
    "train['yr_built'].describe()\n",
    "train.columns"
   ]
  },
  {
   "cell_type": "code",
   "execution_count": 12,
   "metadata": {},
   "outputs": [],
   "source": [
    "from sklearn.model_selection import train_test_split\n",
    "fields = ['bedrooms', 'bathrooms', 'sqft_living',\n",
    "       'sqft_lot', 'floors', 'waterfront', 'view', 'condition', 'grade',\n",
    "       'sqft_above', 'sqft_basement', 'yr_built', 'yr_renovated', 'zipcode',\n",
    "       'lat', 'long', 'sqft_living15', 'sqft_lot15', 'year'\n",
    "        , 'distanceFromAmazon']\n",
    "scale_fileds = ['bedrooms', 'bathrooms', 'sqft_living',\n",
    "               'sqft_lot', 'floors','sqft_above', 'sqft_basement', 'yr_built', 'yr_renovated'\n",
    "                , 'lat', 'long', 'sqft_living15', 'sqft_lot15', 'year'\n",
    "                , 'distanceFromAmazon' ]\n",
    "\n",
    "\n",
    "# from sklearn.preprocessing import StandardScaler, Normalizer , MinMaxScaler\n",
    "# scaler = StandardScaler()\n",
    "# scaler.fit(X_train)\n",
    "# scale_train = scaler.transform(X_train)\n",
    "# scale_test = scaler.transform(X_test)\n",
    "# scale_real_test = scaler.transform(test_data)\n",
    "\n",
    "\n",
    "\n",
    "x_train, x_test, y_train, y_test = train_test_split(train[fields], train['price'], test_size = 0.15 , random_state=0)"
   ]
  },
  {
   "cell_type": "code",
   "execution_count": 13,
   "metadata": {},
   "outputs": [
    {
     "data": {
      "text/html": [
       "<div>\n",
       "<style scoped>\n",
       "    .dataframe tbody tr th:only-of-type {\n",
       "        vertical-align: middle;\n",
       "    }\n",
       "\n",
       "    .dataframe tbody tr th {\n",
       "        vertical-align: top;\n",
       "    }\n",
       "\n",
       "    .dataframe thead th {\n",
       "        text-align: right;\n",
       "    }\n",
       "</style>\n",
       "<table border=\"1\" class=\"dataframe\">\n",
       "  <thead>\n",
       "    <tr style=\"text-align: right;\">\n",
       "      <th></th>\n",
       "      <th>id</th>\n",
       "      <th>price</th>\n",
       "    </tr>\n",
       "  </thead>\n",
       "  <tbody>\n",
       "    <tr>\n",
       "      <th>0</th>\n",
       "      <td>0</td>\n",
       "      <td>221900.0</td>\n",
       "    </tr>\n",
       "    <tr>\n",
       "      <th>1</th>\n",
       "      <td>1</td>\n",
       "      <td>180000.0</td>\n",
       "    </tr>\n",
       "    <tr>\n",
       "      <th>2</th>\n",
       "      <td>2</td>\n",
       "      <td>510000.0</td>\n",
       "    </tr>\n",
       "    <tr>\n",
       "      <th>3</th>\n",
       "      <td>3</td>\n",
       "      <td>257500.0</td>\n",
       "    </tr>\n",
       "    <tr>\n",
       "      <th>4</th>\n",
       "      <td>4</td>\n",
       "      <td>291850.0</td>\n",
       "    </tr>\n",
       "  </tbody>\n",
       "</table>\n",
       "</div>"
      ],
      "text/plain": [
       "   id     price\n",
       "0   0  221900.0\n",
       "1   1  180000.0\n",
       "2   2  510000.0\n",
       "3   3  257500.0\n",
       "4   4  291850.0"
      ]
     },
     "execution_count": 13,
     "metadata": {},
     "output_type": "execute_result"
    }
   ],
   "source": [
    "df_pred = pd.DataFrame(train['id'])\n",
    "df_pred['price'] = train['price']\n",
    "df_pred.head()"
   ]
  },
  {
   "cell_type": "code",
   "execution_count": 14,
   "metadata": {},
   "outputs": [],
   "source": [
    "from sklearn.model_selection import GridSearchCV\n"
   ]
  },
  {
   "cell_type": "code",
   "execution_count": 15,
   "metadata": {},
   "outputs": [
    {
     "name": "stdout",
     "output_type": "stream",
     "text": [
      "0.7266219187581191\n"
     ]
    }
   ],
   "source": [
    "#Linea Regression\n",
    "from sklearn.linear_model import LinearRegression\n",
    "lr = LinearRegression()\n",
    "lr.fit(x_train,y_train)\n",
    "\n",
    "df_pred['LR_pred'] = pd.DataFrame(lr.predict(x_test))\n",
    "print(lr.score(x_train,y_train))"
   ]
  },
  {
   "cell_type": "code",
   "execution_count": 57,
   "metadata": {},
   "outputs": [
    {
     "name": "stdout",
     "output_type": "stream",
     "text": [
      "0.5142702092909799\n"
     ]
    }
   ],
   "source": [
    "#Ridge\n",
    "from sklearn.linear_model import Ridge\n",
    "ridge = Ridge(max_iter=1000,alpha = 2 ,random_state=42, solver='lsqr').fit(x_train, y_train)\n",
    "print(ridge.score(x_train,y_train))"
   ]
  },
  {
   "cell_type": "code",
   "execution_count": 17,
   "metadata": {},
   "outputs": [
    {
     "name": "stdout",
     "output_type": "stream",
     "text": [
      "0.7265979876048381\n"
     ]
    }
   ],
   "source": [
    "#Lasso\n",
    "from sklearn.linear_model import Lasso\n",
    "\n",
    "lasso = Lasso(alpha =100).fit(x_train,y_train)\n",
    "print(lasso.score(x_train,y_train))"
   ]
  },
  {
   "cell_type": "code",
   "execution_count": 111,
   "metadata": {},
   "outputs": [
    {
     "data": {
      "text/plain": [
       "array([ 556648.85263278,  435697.02156727, 1294735.07189188, ...,\n",
       "        413842.39497481,  448328.62828929,  444104.76311813])"
      ]
     },
     "execution_count": 111,
     "metadata": {},
     "output_type": "execute_result"
    }
   ],
   "source": [
    "#random Forest\n",
    "from sklearn.ensemble import RandomForestRegressor\n",
    "\n",
    "regr = RandomForestRegressor(max_depth=6, random_state=0,\n",
    "                             n_estimators=1000)\n",
    "regr.fit(x_train,y_train)\n",
    "regr.predict(test[fields])"
   ]
  },
  {
   "cell_type": "code",
   "execution_count": 119,
   "metadata": {},
   "outputs": [],
   "source": [
    "sub_rf = pd.DataFrame(test['id'])\n",
    "sub_rf['price'] = pd.DataFrame(regr.predict(test[fields]))\n",
    "sub_rf.head()\n",
    "sub_rf.set_index('id', inplace=True)\n",
    "sub_rf\n",
    "sub_rf.to_csv('Submit_RF.csv', sep=',', encoding ='utf-8')"
   ]
  },
  {
   "cell_type": "code",
   "execution_count": 157,
   "metadata": {},
   "outputs": [
    {
     "data": {
      "text/plain": [
       "LinearRegression(copy_X=True, fit_intercept=True, n_jobs=None,\n",
       "         normalize=False)"
      ]
     },
     "execution_count": 157,
     "metadata": {},
     "output_type": "execute_result"
    }
   ],
   "source": [
    "#polynomial Regression\n",
    "from sklearn.preprocessing import PolynomialFeatures\n",
    "\n",
    "poly = PolynomialFeatures(degree=3)\n",
    "x_train_ = poly.fit_transform(x_train)\n",
    "test_ = poly.transform(test[fields])\n",
    "# Instantiate\n",
    "lg = LinearRegression()\n",
    "# Fitb\n",
    "lg.fit(x_train_, y_train)\n"
   ]
  },
  {
   "cell_type": "code",
   "execution_count": 18,
   "metadata": {},
   "outputs": [
    {
     "data": {
      "text/plain": [
       "Lasso(alpha=100, copy_X=True, fit_intercept=True, max_iter=2000,\n",
       "   normalize=False, positive=False, precompute=False, random_state=None,\n",
       "   selection='cyclic', tol=0.0001, warm_start=False)"
      ]
     },
     "execution_count": 18,
     "metadata": {},
     "output_type": "execute_result"
    }
   ],
   "source": [
    "#polynomial Regression\n",
    "from sklearn.preprocessing import PolynomialFeatures\n",
    "\n",
    "poly = PolynomialFeatures(degree=3)\n",
    "x_train_ = poly.fit_transform(x_train)\n",
    "test_ = poly.transform(test[fields])\n",
    "# Instantiate\n",
    "lg = Lasso(alpha =100, max_iter=2000)\n",
    "# Fitb\n",
    "lg.fit(x_train_, y_train)\n"
   ]
  },
  {
   "cell_type": "code",
   "execution_count": 150,
   "metadata": {},
   "outputs": [
    {
     "data": {
      "text/plain": [
       "(6468, 26)"
      ]
     },
     "execution_count": 150,
     "metadata": {},
     "output_type": "execute_result"
    }
   ],
   "source": [
    "test.shape"
   ]
  },
  {
   "cell_type": "code",
   "execution_count": 153,
   "metadata": {},
   "outputs": [],
   "source": [
    "# lg.coef_"
   ]
  },
  {
   "cell_type": "code",
   "execution_count": 164,
   "metadata": {},
   "outputs": [
    {
     "data": {
      "text/plain": [
       "array([ 581895.0675482 ,  362485.84569431, 1382435.78565668, ...,\n",
       "        419833.65475478,  353620.38057428,  430232.53317384])"
      ]
     },
     "execution_count": 164,
     "metadata": {},
     "output_type": "execute_result"
    }
   ],
   "source": [
    "# df_pred['PLR_pred'] = pd.DataFrame(lg.predict(x_test))\n",
    "lg.predict(test_)"
   ]
  },
  {
   "cell_type": "code",
   "execution_count": 165,
   "metadata": {},
   "outputs": [],
   "source": [
    "sub_lg = pd.DataFrame(test['id'])\n",
    "sub_lg['price'] = pd.DataFrame(lg.predict(test_))\n",
    "sub_lg.head()\n",
    "sub_lg.set_index('id', inplace=True)\n",
    "sub_lg\n",
    "sub_lg.to_csv('Submit_lg2.csv', sep=',', encoding ='utf-8')"
   ]
  },
  {
   "cell_type": "code",
   "execution_count": 75,
   "metadata": {},
   "outputs": [
    {
     "name": "stdout",
     "output_type": "stream",
     "text": [
      "0.928599113669103 -5.469472668009608\n"
     ]
    }
   ],
   "source": [
    "print(lg.score(x_train_,y_train) , lg.score(x_test_,y_test) )"
   ]
  }
 ],
 "metadata": {
  "kernelspec": {
   "display_name": "Python 3",
   "language": "python",
   "name": "python3"
  },
  "language_info": {
   "codemirror_mode": {
    "name": "ipython",
    "version": 3
   },
   "file_extension": ".py",
   "mimetype": "text/x-python",
   "name": "python",
   "nbconvert_exporter": "python",
   "pygments_lexer": "ipython3",
   "version": "3.7.1"
  }
 },
 "nbformat": 4,
 "nbformat_minor": 2
}
