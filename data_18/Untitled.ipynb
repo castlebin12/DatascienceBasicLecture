{
 "cells": [
  {
   "cell_type": "code",
   "execution_count": 5,
   "metadata": {},
   "outputs": [],
   "source": [
    "import pandas as pd\n",
    "import numpy as np\n",
    "import matplotlib as mpl\n",
    "import matplotlib.pyplot as plt\n",
    "import seaborn as sns\n",
    "from scipy import stats\n",
    "\n",
    "#노트북안에 그래프를 그리기 위해\n",
    "%matplotlib inline\n",
    "\n",
    "#그래프에서 격자로 숫자 범위가 눈에 잘띄도록 ggplot 스타일 사용\n",
    "plt.style.use('ggplot')\n",
    "\n",
    "#깨지는거 방지\n",
    "mpl.rcParams['axes.unicode_minus'] = False"
   ]
  },
  {
   "cell_type": "code",
   "execution_count": null,
   "metadata": {},
   "outputs": [],
   "source": [
    "ㅑㅡㅔㅐㄳ ㅡㅑㄴ냐ㅜ후ㅐ ㅁㄴ ㅡ누ㅐ\n",
    "\n",
    "ㅡ누ㅐ.ㅡㅁㅅ걑(ㅅㄱ먀ㅜ, 럏냨ㄷ=)\n",
    "\n",
    "import missingno as msno \n",
    "msno.matrix(train, figsize= (10,5))\n",
    "\n",
    "parse_dates = ['datetimes'] # 파일읽을때 변수로 넣으면 데이트타입을 쪼갤 수 있음\n",
    "# train['year'] = train['datetime'].dt.year\n",
    "# train['month'] = train['datetime'].dt.month\n",
    "# train['day'] = train['datetime'].dt.day\n",
    "# train['hour'] = train['datetime'].dt.hour\n",
    "# train['minute'] = train['datetime'].dt.minute\n",
    "# train['second'] = train['datetime'].dt.second"
   ]
  },
  {
   "cell_type": "code",
   "execution_count": 6,
   "metadata": {},
   "outputs": [],
   "source": [
    "# day8 싨브파일에 한글 그래프안깨지도록 해주는거있음"
   ]
  },
  {
   "cell_type": "code",
   "execution_count": null,
   "metadata": {},
   "outputs": [],
   "source": [
    "# train['dayofweek'] = train['datetimes'].dt.dayofweek\n",
    "23"
   ]
  },
  {
   "cell_type": "code",
   "execution_count": null,
   "metadata": {},
   "outputs": [],
   "source": []
  },
  {
   "cell_type": "code",
   "execution_count": null,
   "metadata": {},
   "outputs": [],
   "source": []
  }
 ],
 "metadata": {
  "kernelspec": {
   "display_name": "Python 3",
   "language": "python",
   "name": "python3"
  },
  "language_info": {
   "codemirror_mode": {
    "name": "ipython",
    "version": 3
   },
   "file_extension": ".py",
   "mimetype": "text/x-python",
   "name": "python",
   "nbconvert_exporter": "python",
   "pygments_lexer": "ipython3",
   "version": "3.7.1"
  }
 },
 "nbformat": 4,
 "nbformat_minor": 2
}
