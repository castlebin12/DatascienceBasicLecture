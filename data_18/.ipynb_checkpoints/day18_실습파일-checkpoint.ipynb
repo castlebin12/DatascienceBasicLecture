{
 "cells": [
  {
   "cell_type": "markdown",
   "metadata": {},
   "source": [
    "# 캐글러를 대상으로 한 설문조사\n",
    "* 설문기간 : 2017년 8월 7일부터 8월 25일까지\n",
    "* 평균 응답 시간은 16.4 분\n",
    "* 171 개 국가 및 지역에서 16,716 명의 응답자\n",
    "* 특정 국가 또는 지역에서 응답자가 50 명 미만인 경우 익명을 위해 그룹을 '기타'그룹으로 그룹화\n",
    "* 설문 조사 시스템에 신고 된 응답자를 스팸으로 분류하거나 취업 상태에 관한 질문에 답변하지 않은 응답자는 제외(이 질문은 첫 번째 필수 질문이기에 응답하지 않으면 응답자가 다섯 번째 질문 이후 진행되지 않음)\n",
    "* 대부분의 응답자는 이메일 목록, 토론 포럼 및 소셜 미디어 Kaggle 채널을 통해 설문을 알게 됨\n",
    "* 급여데이터는 일부 통화에 대해서만 받고 해당 되는 통화에 기준하여 작성하도록 함\n",
    "* 미국 달러로 급여를 계산할 수 있도록 USD로 환산 한 csv를 제공\n",
    "* 질문은 선택적\n",
    "* 모든 질문이 모든 응답자에게 보여지는 것은 아님 \n",
    "* 취업을 한 사람과 학생을 나누어 다른 질문을 함\n",
    "* 응답자의 신원을 보호하기 위해 주관식과 객관식 파일로 분리\n",
    "* 객관식과 자유 형식 응답을 맞추기 위한 키를 제공하지 않음\n",
    "* 주관식 응답은 같은 행에 나타나는 응답이 반드시 동일한 설문 조사자가 제공하지 않도록 열 단위로 무작위 지정\n",
    "\n",
    "\n",
    "# 데이터 파일\n",
    "5 개의 데이터 파일을 제공\n",
    "\n",
    "* schema.csv : 설문 스키마가있는 CSV 파일입니다. 이 스키마에는 multipleChoiceResponses.csv 및 freeformResponses.csv의 각 열 이름에 해당하는 질문이 포함되어 있습니다.\n",
    "* multipleChoiceResponses.csv : 객관식 및 순위 질문에 대한 응답자의 답변, 각 행이 한 응답자의 응답\n",
    "* freeformResponses.csv : Kaggle의 설문 조사 질문에 대한 응답자의 주관식 답변입니다. 임의로 지정되어 각 행이 같은 응답자를 나타내지 않음\n",
    "* conversionRates.csv : R 패키지 \"quantmod\"에서 2017 년 9 월 14 일에 액세스 한 통화 변환율 (USD)\n",
    "* RespondentTypeREADME.txt : schema.csv 파일의 \"Asked\"열에 응답을 디코딩하는 스키마입니다."
   ]
  },
  {
   "cell_type": "code",
   "execution_count": null,
   "metadata": {},
   "outputs": [],
   "source": [
    "import pandas as pd\n",
    "import numpy as np\n",
    "from scipy import stats\n",
    "import matplotlib.pyplot as plt\n",
    "import seaborn as sns\n",
    "\n",
    "# Suppress Deprecation and Incorrect Usage Warnings \n",
    "import warnings\n",
    "warnings.filterwarnings('ignore')"
   ]
  },
  {
   "cell_type": "code",
   "execution_count": null,
   "metadata": {},
   "outputs": [],
   "source": [
    "question = pd.read_csv('data/schema.csv')\n",
    "question.shape"
   ]
  },
  {
   "cell_type": "code",
   "execution_count": null,
   "metadata": {},
   "outputs": [],
   "source": [
    "question.head()"
   ]
  },
  {
   "cell_type": "code",
   "execution_count": null,
   "metadata": {},
   "outputs": [],
   "source": [
    "# 판다스로 선다형 객관식 문제에 대한 응답을 가져 옴\n",
    "mcq = pd.read_csv('data/multipleChoiceResponses.csv', encoding=\"ISO-8859-1\")\n",
    "mcq.shape"
   ]
  },
  {
   "cell_type": "code",
   "execution_count": null,
   "metadata": {},
   "outputs": [],
   "source": [
    "mcq.columns"
   ]
  },
  {
   "cell_type": "code",
   "execution_count": null,
   "metadata": {},
   "outputs": [],
   "source": [
    "mcq.head(10)"
   ]
  },
  {
   "cell_type": "markdown",
   "metadata": {},
   "source": [
    "* 16,716 명의 데이터와 228개의 선다형 객관식문제와 62개의 주관식 질문에 대한 응답이다. (총 290개의 질문) 응답하지 않은 질문이 많음\n",
    "\n",
    "# 설문통계"
   ]
  },
  {
   "cell_type": "code",
   "execution_count": null,
   "metadata": {},
   "outputs": [],
   "source": [
    "# 성별\n",
    "sns.countplot(y='GenderSelect', data=mcq)"
   ]
  },
  {
   "cell_type": "markdown",
   "metadata": {},
   "source": [
    "여성보다는 남성의 비율이 훨씬 높은 편이다."
   ]
  },
  {
   "cell_type": "code",
   "execution_count": null,
   "metadata": {},
   "outputs": [],
   "source": [
    "# 국가별 응답수\n",
    "con_df = pd.DataFrame(mcq['Country'].value_counts())\n",
    "# 'country' 컬럼을 인덱스로 지정해 주고\n",
    "con_df['국가'] = con_df.index\n",
    "# 컬럼의 순서대로 응답 수, 국가로 컬럼명을 지정해 줌\n",
    "con_df.columns = ['응답 수', '국가']\n",
    "# index 컬럼을 삭제하고 순위를 알기위해 reset_index()를 해준다.\n",
    "con_df = con_df.reset_index()\n",
    "con_df = con_df.drop('index', axis=1)\n",
    "con_df.head()"
   ]
  },
  {
   "cell_type": "code",
   "execution_count": null,
   "metadata": {},
   "outputs": [],
   "source": [
    "# 연령에 대한 정보를 본다.\n",
    "mcq['Age'].describe()"
   ]
  },
  {
   "cell_type": "code",
   "execution_count": null,
   "metadata": {},
   "outputs": [],
   "source": [
    "sns.distplot(mcq['Age'])"
   ]
  },
  {
   "cell_type": "code",
   "execution_count": null,
   "metadata": {},
   "outputs": [],
   "source": [
    "sns.distplot(mcq[mcq['Age'] > 0]['Age'])"
   ]
  },
  {
   "cell_type": "markdown",
   "metadata": {},
   "source": [
    "응답자의 대부분이 어리며, \n",
    "20대부터 급격히 늘어나며, 30대가 가장 많다. \n",
    "평균 나이는 32세다."
   ]
  },
  {
   "cell_type": "markdown",
   "metadata": {},
   "source": [
    "## 학력"
   ]
  },
  {
   "cell_type": "code",
   "execution_count": null,
   "metadata": {},
   "outputs": [],
   "source": [
    "sns.countplot(y='FormalEducation', data=mcq)"
   ]
  },
  {
   "cell_type": "markdown",
   "metadata": {},
   "source": [
    "학사 학위를 가진 사람보다 석사 학위를 가지고 있는 사람이 많으며, 박사학위를 가지고 있는 사람들도 많다."
   ]
  },
  {
   "cell_type": "markdown",
   "metadata": {},
   "source": [
    "## 전공"
   ]
  },
  {
   "cell_type": "code",
   "execution_count": null,
   "metadata": {
    "scrolled": false
   },
   "outputs": [],
   "source": [
    "# value_counts 를 사용하면 그룹화 된 데이터의 카운트 값을 보여준다. \n",
    "# normalize=True 옵션을 사용하면, 해당 데이터가 전체 데이터에서 어느정도의 비율을 차지하는지 알 수 있다.\n",
    "mcq_major_count = pd.DataFrame(mcq['MajorSelect'].value_counts())\n",
    "print(mcq_major_count)\n",
    "mcq_major_percent = pd.DataFrame(mcq['MajorSelect'].value_counts(normalize=True))\n",
    "print(mcq_major_percent)"
   ]
  },
  {
   "cell_type": "code",
   "execution_count": null,
   "metadata": {},
   "outputs": [],
   "source": [
    "mcq_major_df = mcq_major_count.merge(mcq_major_percent, left_index=True, right_index=True)\n",
    "mcq_major_df.columns = ['응답 수', '비율']\n",
    "mcq_major_df"
   ]
  },
  {
   "cell_type": "markdown",
   "metadata": {},
   "source": [
    "컴퓨터 전공자들이 33%로 가장 많으며, 다음으로 수학, 공학, 전기 공학 순이다."
   ]
  },
  {
   "cell_type": "code",
   "execution_count": null,
   "metadata": {},
   "outputs": [],
   "source": [
    "# 재학중인 사람들의 전공 현황\n",
    "plt.figure(figsize=(6,8))\n",
    "sns.countplot(y='MajorSelect', data=mcq)"
   ]
  },
  {
   "cell_type": "markdown",
   "metadata": {},
   "source": [
    "## 취업 여부"
   ]
  },
  {
   "cell_type": "code",
   "execution_count": null,
   "metadata": {},
   "outputs": [],
   "source": [
    "mcq_es_count = pd.DataFrame(mcq['EmploymentStatus'].value_counts())\n",
    "mcq_es_percent = pd.DataFrame(mcq['EmploymentStatus'].value_counts(normalize=True))\n",
    "mcq_es_df = mcq_es_count.merge(mcq_es_percent, left_index=True, right_index=True)\n",
    "mcq_es_df.columns = ['응답 수', '비율']\n",
    "mcq_es_df"
   ]
  },
  {
   "cell_type": "code",
   "execution_count": null,
   "metadata": {},
   "outputs": [],
   "source": [
    "sns.countplot(y='EmploymentStatus', data=mcq)"
   ]
  },
  {
   "cell_type": "markdown",
   "metadata": {},
   "source": [
    "응답자의 대부분이 65%가 풀타임으로 일하고 있으며, 그 다음으로 구직자가 12%다."
   ]
  },
  {
   "cell_type": "markdown",
   "metadata": {},
   "source": [
    "## 프로그래밍 경험\n",
    "* 'Tenure'항목은 데이터사이언스 분야에서 코딩 경험이 얼마나 되는지에 대한 질문이다. 대부분이 5년 미만이며, 특히 1~2년의 경험을 가진 사람들이 많다."
   ]
  },
  {
   "cell_type": "code",
   "execution_count": null,
   "metadata": {},
   "outputs": [],
   "source": [
    "sns.countplot(y='Tenure', data=mcq)"
   ]
  },
  {
   "cell_type": "markdown",
   "metadata": {},
   "source": [
    "* 위에서처럼 통계치를 시각화 해보는 실습\n",
    "\n",
    "### Q1. 프로그래밍 언어 추천에 대한 답을 그래프로 나타내기"
   ]
  },
  {
   "cell_type": "code",
   "execution_count": null,
   "metadata": {},
   "outputs": [],
   "source": []
  },
  {
   "cell_type": "markdown",
   "metadata": {},
   "source": [
    "### Q2. 현재 직업에 따라 사용하는 언어의 차이를 그래프로 나타내기"
   ]
  },
  {
   "cell_type": "code",
   "execution_count": null,
   "metadata": {},
   "outputs": [],
   "source": [
    "# 현재 하고 있는 일\n",
    "sns.countplot(y=mcq['CurrentJobTitleSelect'])"
   ]
  },
  {
   "cell_type": "code",
   "execution_count": null,
   "metadata": {},
   "outputs": [],
   "source": [
    "# 현재 하고 있는 일에 대한 전체 응답수 중 null값\n",
    "mcq[mcq['CurrentJobTitleSelect'].isnull()]['CurrentJobTitleSelect'].shape"
   ]
  },
  {
   "cell_type": "code",
   "execution_count": null,
   "metadata": {},
   "outputs": [],
   "source": [
    "# 현재 하고 있는 일에 대한 응답을 해준 사람 중 Python과 R을 사용하는 사람\n",
    "# 응답자들이 실제 업무에서 어떤 언어를 주로 사용하는지 볼 수 있다.\n",
    "data = mcq[(mcq['CurrentJobTitleSelect'].notnull()) &\n",
    "           ((mcq['LanguageRecommendationSelect'] == 'Python') | (mcq['LanguageRecommendationSelect'] == 'R'))]\n",
    "print(data.shape)\n",
    "plt.figure(figsize=(8, 10))\n",
    "sns.countplot(y='CurrentJobTitleSelect', hue='LanguageRecommendationSelect', data=data)"
   ]
  },
  {
   "cell_type": "markdown",
   "metadata": {},
   "source": [
    "데이터사이언티스트들은 Python을 주로 사용하지만 R을 사용하는 사람들도 제법 된다. 하지만 소프트웨어 개발자들은 Python을 훨씬 더 많이 사용하며, Python보다 R을 더 많이 사용하는 직업군은 통계 학자들이다."
   ]
  },
  {
   "cell_type": "markdown",
   "metadata": {},
   "source": [
    "### Q3. 데이터 사이언스 분야에서 앞으로 크게 주목받을 툴에 대한 답변을 그래프로 나타내기\n",
    "- 가로축은 응답 수/비율 노상관!"
   ]
  },
  {
   "cell_type": "code",
   "execution_count": null,
   "metadata": {},
   "outputs": [],
   "source": []
  },
  {
   "cell_type": "markdown",
   "metadata": {},
   "source": [
    "### Q4. 데이터 사이언스 공부에 얼마나 많은 시간을 사용 하는지 그래프로 나타내기\n",
    "- 직업 상태 별 차이도 그래프에 표시"
   ]
  },
  {
   "cell_type": "code",
   "execution_count": null,
   "metadata": {},
   "outputs": [],
   "source": []
  },
  {
   "cell_type": "markdown",
   "metadata": {},
   "source": [
    "### Q5. 데이터 사이언티스트가 되기 위해 학위가 중요할까? => 그래프로 나타내기"
   ]
  },
  {
   "cell_type": "code",
   "execution_count": null,
   "metadata": {},
   "outputs": [],
   "source": []
  },
  {
   "cell_type": "markdown",
   "metadata": {},
   "source": [
    "### Q5. 어디에서부터 데이터사이언스를 시작해야 할까? => 그래프로 나타내기"
   ]
  },
  {
   "cell_type": "code",
   "execution_count": null,
   "metadata": {},
   "outputs": [],
   "source": []
  },
  {
   "cell_type": "markdown",
   "metadata": {},
   "source": [
    "### Q6. 데이터사이언티스트 이력서에서 가장 중요한 것은 무엇일까? => 그래프로 나타내기"
   ]
  },
  {
   "cell_type": "code",
   "execution_count": null,
   "metadata": {},
   "outputs": [],
   "source": []
  }
 ],
 "metadata": {
  "kernelspec": {
   "display_name": "Python 3",
   "language": "python",
   "name": "python3"
  },
  "language_info": {
   "codemirror_mode": {
    "name": "ipython",
    "version": 3
   },
   "file_extension": ".py",
   "mimetype": "text/x-python",
   "name": "python",
   "nbconvert_exporter": "python",
   "pygments_lexer": "ipython3",
   "version": "3.7.1"
  }
 },
 "nbformat": 4,
 "nbformat_minor": 2
}
